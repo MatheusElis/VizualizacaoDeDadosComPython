{
  "nbformat": 4,
  "nbformat_minor": 0,
  "metadata": {
    "colab": {
      "name": "Aula01_e_02.ipynb",
      "provenance": [],
      "toc_visible": true,
      "mount_file_id": "1zGtheluHzZ0OuWcFmw1V5PSgh200aV8x",
      "authorship_tag": "ABX9TyORwqwuX64L5GWD0LDXQk+z",
      "include_colab_link": true
    },
    "kernelspec": {
      "name": "python3",
      "display_name": "Python 3"
    },
    "language_info": {
      "name": "python"
    }
  },
  "cells": [
    {
      "cell_type": "markdown",
      "metadata": {
        "id": "view-in-github",
        "colab_type": "text"
      },
      "source": [
        "<a href=\"https://colab.research.google.com/github/MatheusElis/VizualizacaoDeDadosComPython/blob/main/Aula01_e_02.ipynb\" target=\"_parent\"><img src=\"https://colab.research.google.com/assets/colab-badge.svg\" alt=\"Open In Colab\"/></a>"
      ]
    },
    {
      "cell_type": "markdown",
      "metadata": {
        "id": "0sk4uHa_YbGo"
      },
      "source": [
        "# Vizualização de Dados com Python\n",
        "  \n",
        "Minicurso remoto oferecido no Instituto de Ciências Exatas da Universidade Federal Fluminense em julho de 2020  \n",
        "Ministrado por Thadeu Penna  \n",
        "Aluno: Matheus Elis da Silva"
      ]
    },
    {
      "cell_type": "markdown",
      "metadata": {
        "id": "CYSM7VylZr0g"
      },
      "source": [
        "# Aula 01  Google Colab e Markdown\n",
        "[Video da Aula](https://www.youtube.com/watch?v=kQvN99aF2HA&list=PLpVCamz0zLr9D4SQMLMVbVPAhz2BpLbp8&index=2)\n",
        "\n",
        "Estaremos usando python para este curso que é uma linguagem interpretada  \n",
        "Ou seja o compilador pega cada linha do codigo como um codigo proprio, roda e executa  \n",
        "  \n",
        "Exemplos:\n"
      ]
    },
    {
      "cell_type": "code",
      "metadata": {
        "colab": {
          "base_uri": "https://localhost:8080/"
        },
        "id": "n4lPRSOYZq-p",
        "outputId": "1e291119-56c9-4718-f701-d34e7946bf38"
      },
      "source": [
        "2+2"
      ],
      "execution_count": null,
      "outputs": [
        {
          "output_type": "execute_result",
          "data": {
            "text/plain": [
              "4"
            ]
          },
          "metadata": {
            "tags": []
          },
          "execution_count": 1
        }
      ]
    },
    {
      "cell_type": "code",
      "metadata": {
        "colab": {
          "base_uri": "https://localhost:8080/"
        },
        "id": "zRzNL01PX0jg",
        "outputId": "c46312e6-450f-4ba7-eb4d-b99b17d93dc4"
      },
      "source": [
        "4**4"
      ],
      "execution_count": null,
      "outputs": [
        {
          "output_type": "execute_result",
          "data": {
            "text/plain": [
              "256"
            ]
          },
          "metadata": {
            "tags": []
          },
          "execution_count": 4
        }
      ]
    },
    {
      "cell_type": "markdown",
      "metadata": {
        "id": "TMDALw-3YYSW"
      },
      "source": [
        "Usaremos a plataforma em núvem [Google Colab](colab.research.google.com/)  \n",
        "É uma platarma de programação com integração com o Google Drive e com o GitHub"
      ]
    },
    {
      "cell_type": "markdown",
      "metadata": {
        "id": "o_Xa83rM39lF"
      },
      "source": [
        "## Usando o Markdown"
      ]
    },
    {
      "cell_type": "markdown",
      "metadata": {
        "id": "pPRCsgUl-4Cu"
      },
      "source": [
        "Escrever em **negrito** *itálico*\n",
        "\n",
        "[Pesquisa no Google](www.google.com)\n",
        "\n",
        "Exemplo de código em Python\n",
        "```\n",
        "print(\"Hello World\")\n",
        "```\n",
        "\n",
        "Podemos também adicionar imagens\n",
        "![Korra](https://img.ibxk.com.br//ms/images/highlights/000/055/467/52020.jpg)\n",
        "\n",
        "Podemos fazer também citações:\n",
        "\n",
        "\n",
        "\n",
        "> Python é melhor que fortran\n",
        "\n",
        "\n",
        "\n"
      ]
    },
    {
      "cell_type": "markdown",
      "metadata": {
        "id": "WGHfb8Cd_4Ci"
      },
      "source": [
        "### Tabelas\n",
        "\n",
        "| Aula | Assunto | Status|\n",
        "|---|---|---|\n",
        "|1| Apresentação | Disponível |\n",
        "|2| Google Colab| Disponível |"
      ]
    },
    {
      "cell_type": "markdown",
      "metadata": {
        "id": "DULhd4yjAelY"
      },
      "source": [
        "### Fórmulas\n",
        "\n",
        "Einstein disse: $ E = mc^2 $.\n",
        "\n",
        "$$ \\int_0^\\infty x^2 dx $$\n",
        "\n"
      ]
    },
    {
      "cell_type": "markdown",
      "metadata": {
        "id": "ML9BAT4HCHN0"
      },
      "source": [
        "# Aula 02 Colab, Shell & Drive\n",
        "\n",
        "Neste vídeo, continuamos com a apresentação do Colab, mas voltado mais aos códigos. De quebra, relembro alguns comandos do Unix (você roda Linux, não é?) e como obter informações das nossos computadores e onde rodamos o Colab -- coisas de nerd. Vou ainda mostrar como garantir que seus arquivos sobreviverão mesmo com sessões encerradas, com a integração com o Google Drive e por que ter orgulho de ter um @id.uff.br.\n",
        "\n",
        "[Video da aula](https://www.youtube.com/watch?v=DnBOaF-wbsE&list=PLpVCamz0zLr9D4SQMLMVbVPAhz2BpLbp8&index=3)\n",
        "\n"
      ]
    },
    {
      "cell_type": "markdown",
      "metadata": {
        "id": "JPFrkGXqCaJ0"
      },
      "source": [
        "## Vendo os Hardware do Colab\n",
        "\n",
        "Para verificar a CPU do Colab usamos "
      ]
    },
    {
      "cell_type": "code",
      "metadata": {
        "colab": {
          "base_uri": "https://localhost:8080/"
        },
        "id": "Za7ZZUWMDYkp",
        "outputId": "3f98f6ba-40a9-4995-93fb-85d7d1e71fbc"
      },
      "source": [
        "!lscpu"
      ],
      "execution_count": null,
      "outputs": [
        {
          "output_type": "stream",
          "text": [
            "Architecture:        x86_64\n",
            "CPU op-mode(s):      32-bit, 64-bit\n",
            "Byte Order:          Little Endian\n",
            "CPU(s):              2\n",
            "On-line CPU(s) list: 0,1\n",
            "Thread(s) per core:  2\n",
            "Core(s) per socket:  1\n",
            "Socket(s):           1\n",
            "NUMA node(s):        1\n",
            "Vendor ID:           AuthenticAMD\n",
            "CPU family:          23\n",
            "Model:               49\n",
            "Model name:          AMD EPYC 7B12\n",
            "Stepping:            0\n",
            "CPU MHz:             2249.998\n",
            "BogoMIPS:            4499.99\n",
            "Hypervisor vendor:   KVM\n",
            "Virtualization type: full\n",
            "L1d cache:           32K\n",
            "L1i cache:           32K\n",
            "L2 cache:            512K\n",
            "L3 cache:            16384K\n",
            "NUMA node0 CPU(s):   0,1\n",
            "Flags:               fpu vme de pse tsc msr pae mce cx8 apic sep mtrr pge mca cmov pat pse36 clflush mmx fxsr sse sse2 ht syscall nx mmxext fxsr_opt pdpe1gb rdtscp lm constant_tsc rep_good nopl xtopology nonstop_tsc cpuid extd_apicid tsc_known_freq pni pclmulqdq ssse3 fma cx16 sse4_1 sse4_2 movbe popcnt aes xsave avx f16c rdrand hypervisor lahf_lm cmp_legacy cr8_legacy abm sse4a misalignsse 3dnowprefetch osvw topoext ssbd ibrs ibpb stibp vmmcall fsgsbase tsc_adjust bmi1 avx2 smep bmi2 rdseed adx smap clflushopt clwb sha_ni xsaveopt xsavec xgetbv1 clzero xsaveerptr arat npt nrip_save umip rdpid\n"
          ],
          "name": "stdout"
        }
      ]
    },
    {
      "cell_type": "markdown",
      "metadata": {
        "id": "_EHaFyWBDbZt"
      },
      "source": [
        "A GPU utilizada no Colab é (necessita ativar a GPU nas configurações de ambiente)"
      ]
    },
    {
      "cell_type": "code",
      "metadata": {
        "id": "jj0HCivMDaK7"
      },
      "source": [
        "!nvidia-smi -L"
      ],
      "execution_count": null,
      "outputs": []
    },
    {
      "cell_type": "markdown",
      "metadata": {
        "id": "R0SUxCi6N6ML"
      },
      "source": [
        "Para verificar a memória disponivel usamos:"
      ]
    },
    {
      "cell_type": "code",
      "metadata": {
        "colab": {
          "base_uri": "https://localhost:8080/"
        },
        "id": "KZpNWeGoN9tn",
        "outputId": "25e72d48-2d7b-4b7c-b526-d6dfe9f5cb8b"
      },
      "source": [
        "!free -h"
      ],
      "execution_count": null,
      "outputs": [
        {
          "output_type": "stream",
          "text": [
            "              total        used        free      shared  buff/cache   available\n",
            "Mem:            12G        542M         10G        984K        1.9G         11G\n",
            "Swap:            0B          0B          0B\n"
          ],
          "name": "stdout"
        }
      ]
    },
    {
      "cell_type": "markdown",
      "metadata": {
        "id": "HtP80JpTODpV"
      },
      "source": [
        "Para ver a memória de disco com:\n"
      ]
    },
    {
      "cell_type": "code",
      "metadata": {
        "colab": {
          "base_uri": "https://localhost:8080/"
        },
        "id": "HNZU6gpkN_Th",
        "outputId": "14ee9f54-25b8-46ca-d795-d69c54f4a862"
      },
      "source": [
        "!df -h"
      ],
      "execution_count": null,
      "outputs": [
        {
          "output_type": "stream",
          "text": [
            "Filesystem      Size  Used Avail Use% Mounted on\n",
            "overlay         108G   39G   70G  36% /\n",
            "tmpfs            64M     0   64M   0% /dev\n",
            "tmpfs           6.4G     0  6.4G   0% /sys/fs/cgroup\n",
            "shm             5.9G     0  5.9G   0% /dev/shm\n",
            "tmpfs           6.4G   24K  6.4G   1% /var/colab\n",
            "/dev/sda1       114G   41G   74G  36% /etc/hosts\n",
            "tmpfs           6.4G     0  6.4G   0% /proc/acpi\n",
            "tmpfs           6.4G     0  6.4G   0% /proc/scsi\n",
            "tmpfs           6.4G     0  6.4G   0% /sys/firmware\n"
          ],
          "name": "stdout"
        }
      ]
    },
    {
      "cell_type": "markdown",
      "metadata": {
        "id": "5u_vO6bVOOE9"
      },
      "source": [
        "Verificar o diretório temporario"
      ]
    },
    {
      "cell_type": "code",
      "metadata": {
        "colab": {
          "base_uri": "https://localhost:8080/"
        },
        "id": "WI3kasDYOREw",
        "outputId": "213be98f-5192-49ad-cf5b-63e8c1474a94"
      },
      "source": [
        "!ls -l"
      ],
      "execution_count": null,
      "outputs": [
        {
          "output_type": "stream",
          "text": [
            "total 4\n",
            "drwxr-xr-x 1 root root 4096 Apr 21 13:39 sample_data\n"
          ],
          "name": "stdout"
        }
      ]
    },
    {
      "cell_type": "code",
      "metadata": {
        "colab": {
          "base_uri": "https://localhost:8080/"
        },
        "id": "UuMP6J8pOVWO",
        "outputId": "4dd2b06e-5cb8-4068-925e-af8c715b133c"
      },
      "source": [
        "!ls sample_data"
      ],
      "execution_count": null,
      "outputs": [
        {
          "output_type": "stream",
          "text": [
            "anscombe.json\t\t      mnist_test.csv\n",
            "california_housing_test.csv   mnist_train_small.csv\n",
            "california_housing_train.csv  README.md\n"
          ],
          "name": "stdout"
        }
      ]
    },
    {
      "cell_type": "markdown",
      "metadata": {
        "id": "Asd5PJTGOc4g"
      },
      "source": [
        "Para usar comando de bash como cd, cp e etc precisamos usar o magic que é basicamente colocar o simbolo % na frente do comando"
      ]
    },
    {
      "cell_type": "code",
      "metadata": {
        "colab": {
          "base_uri": "https://localhost:8080/"
        },
        "id": "Wcb5zFRhOxKB",
        "outputId": "b8ccefc1-c1b8-455d-a465-c3b4060f94a9"
      },
      "source": [
        "%cd sample_data/"
      ],
      "execution_count": null,
      "outputs": [
        {
          "output_type": "stream",
          "text": [
            "/content/sample_data\n"
          ],
          "name": "stdout"
        }
      ]
    },
    {
      "cell_type": "markdown",
      "metadata": {
        "id": "pvpYetsBPLKd"
      },
      "source": [
        "Os arquivos criados nessa área são temporarios e são deletados ao fim do ambiente de execução"
      ]
    },
    {
      "cell_type": "code",
      "metadata": {
        "id": "4yMKmpQZOzsQ"
      },
      "source": [
        "!echo \"Meu primeiro arquivo\" > arquivo.txt"
      ],
      "execution_count": null,
      "outputs": []
    },
    {
      "cell_type": "markdown",
      "metadata": {
        "id": "WiaExecVPS_M"
      },
      "source": [
        "Podemos alocar/montar uma pasta do google drive para salvar arquivos e utilizar em outras sessões, utilizando o icone em formato de pasta ao lado esquerdo da pagina ou usando o comando"
      ]
    },
    {
      "cell_type": "code",
      "metadata": {
        "colab": {
          "base_uri": "https://localhost:8080/"
        },
        "id": "o2xRODVXP84f",
        "outputId": "66d33c2b-0557-489f-cbb1-18d5492b9cbd"
      },
      "source": [
        "from google.colab import drive\n",
        "drive.mount('/content/drive')"
      ],
      "execution_count": null,
      "outputs": [
        {
          "output_type": "stream",
          "text": [
            "Drive already mounted at /content/drive; to attempt to forcibly remount, call drive.mount(\"/content/drive\", force_remount=True).\n"
          ],
          "name": "stdout"
        }
      ]
    },
    {
      "cell_type": "markdown",
      "metadata": {
        "id": "D9IWt1BxQUsW"
      },
      "source": [
        "Indo para a pasta montada no drive "
      ]
    },
    {
      "cell_type": "code",
      "metadata": {
        "colab": {
          "base_uri": "https://localhost:8080/"
        },
        "id": "a7ti2mfuQax1",
        "outputId": "f2907294-7d3c-419c-833b-7221d00132f1"
      },
      "source": [
        "%cd /content/drive/MyDrive/Colab\\ Notebooks"
      ],
      "execution_count": null,
      "outputs": [
        {
          "output_type": "stream",
          "text": [
            "/content/drive/MyDrive/Colab Notebooks\n"
          ],
          "name": "stdout"
        }
      ]
    },
    {
      "cell_type": "code",
      "metadata": {
        "colab": {
          "base_uri": "https://localhost:8080/"
        },
        "id": "Ps1n9ZSaQrQn",
        "outputId": "9b7315f5-a0fe-4437-cd1a-8d3ebd2deb30"
      },
      "source": [
        "!ls"
      ],
      "execution_count": null,
      "outputs": [
        {
          "output_type": "stream",
          "text": [
            "AprendendoJulia.ipynb  Julia\t\tUntitled0.ipynb  Untitled2.ipynb\n",
            "Aula01_e_02.ipynb      Python_01.ipynb\tUntitled1.ipynb\n"
          ],
          "name": "stdout"
        }
      ]
    },
    {
      "cell_type": "markdown",
      "metadata": {
        "id": "o82Fif-RQxli"
      },
      "source": [
        "Podemos agora criar um arquivo dentro do drive usando:"
      ]
    },
    {
      "cell_type": "code",
      "metadata": {
        "id": "zRtzcc_yRC1v"
      },
      "source": [
        "!echo \"Meu primeiro arquivo no drive\" > arquivo"
      ],
      "execution_count": null,
      "outputs": []
    }
  ]
}